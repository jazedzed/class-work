{
 "cells": [
  {
   "cell_type": "markdown",
   "metadata": {},
   "source": [
    "# 5-2 Possible Solutions - Save until you have tried your own"
   ]
  },
  {
   "cell_type": "markdown",
   "metadata": {},
   "source": [
    "### Building the While statement"
   ]
  },
  {
   "cell_type": "code",
   "execution_count": 15,
   "metadata": {},
   "outputs": [
    {
     "name": "stdout",
     "output_type": "stream",
     "text": [
      "Enter a number between 0 and 100 or 'done' when you are finished: 100\n",
      "Enter a number between 0 and 100 or 'done' when you are finished: 90\n",
      "Enter a number between 0 and 100 or 'done' when you are finished: 89\n",
      "Enter a number between 0 and 100 or 'done' when you are finished: 69\n",
      "Enter a number between 0 and 100 or 'done' when you are finished: done\n",
      "\n",
      "[100.0, 90.0, 89.0, 69.0]\n"
     ]
    }
   ],
   "source": [
    "prompt = \"Enter a number between 0 and 100 or 'done' when you are finished: \"\n",
    "nums = []\n",
    "while True:\n",
    "    test = input(prompt)\n",
    "    if test.lower() == \"done\" : \n",
    "        break\n",
    "    try:\n",
    "        num = float(test)\n",
    "    except:\n",
    "        print(\"Invalid input. Please enter a number!\")\n",
    "        continue  \n",
    "    if num < 0 or num > 100:\n",
    "        print(\"Number out of range. Please enter a number between 0 and 100!\")\n",
    "        continue\n",
    "    else:\n",
    "        x = nums.append(num) \n",
    "if len(nums) > 0: \n",
    "    print(\"\")\n",
    "    print(nums)       # just to see that our list was created\n",
    "else:\n",
    "    print(\"\")\n",
    "    print(\"No numbers were entered! What's up with that Dude?\")"
   ]
  },
  {
   "cell_type": "markdown",
   "metadata": {},
   "source": [
    "### Calculating the grades\n",
    "Note when using if elif else with numbers like that start at either the top or bottom of the range and work to the other end because once a value has met one of the tests it will not see any others. See example below for starting with small scores."
   ]
  },
  {
   "cell_type": "code",
   "execution_count": 9,
   "metadata": {},
   "outputs": [
    {
     "name": "stdout",
     "output_type": "stream",
     "text": [
      "Enter a number between 0 and 100 or 'done' when you are finished: 100\n",
      "Enter a number between 0 and 100 or 'done' when you are finished: 101\n",
      "Number out of range. Please enter a number between 0 and 100!\n",
      "Enter a number between 0 and 100 or 'done' when you are finished: 50\n",
      "Enter a number between 0 and 100 or 'done' when you are finished: 85\n",
      "Enter a number between 0 and 100 or 'done' when you are finished: done\n",
      "\n",
      "The score 100.0 equates to A\n",
      "The score 50.0 equates to NC\n",
      "The score 85.0 equates to B\n"
     ]
    }
   ],
   "source": [
    "prompt = \"Enter a number between 0 and 100 or 'done' when you are finished: \"\n",
    "nums = []\n",
    "while True:\n",
    "    test = input(prompt)\n",
    "    if test.lower() == \"done\" : \n",
    "        break\n",
    "    try:\n",
    "        num = float(test)\n",
    "    except:\n",
    "        print(\"Invalid input. Please enter a number!\")\n",
    "        continue  \n",
    "    if num < 0 or num > 100:\n",
    "        print(\"Number out of range. Please enter a number between 0 and 100!\")\n",
    "        continue\n",
    "    else:\n",
    "        x = nums.append(num) \n",
    "if len(nums) > 0: \n",
    "    print(\"\")\n",
    "    for x in nums:\n",
    "        if x >= 90:\n",
    "            y = \"A\"\n",
    "        elif x >= 80:\n",
    "            y = \"B\" \n",
    "        elif x >= 70:\n",
    "            y = \"C\"\n",
    "        elif x >= 60:\n",
    "            y = \"D\"\n",
    "        else:\n",
    "            y = \"NC\"\n",
    "        print(\"The score\", x, \"equates to\", y)  \n",
    "else:\n",
    "    print(\"\")\n",
    "    print(\"No numbers were entered! What's up with that Dude?\")"
   ]
  },
  {
   "cell_type": "markdown",
   "metadata": {},
   "source": [
    "### Second example\n",
    "This is exactly the same logic only starting with the smaller values and eliminating them up to the largest."
   ]
  },
  {
   "cell_type": "code",
   "execution_count": 14,
   "metadata": {},
   "outputs": [
    {
     "name": "stdout",
     "output_type": "stream",
     "text": [
      "Enter a number between 0 and 100 or 'done' when you are finished: 100\n",
      "Enter a number between 0 and 100 or 'done' when you are finished: 87\n",
      "Enter a number between 0 and 100 or 'done' when you are finished: done\n",
      "\n",
      "The score 100.0 equates to A\n",
      "The score 87.0 equates to B\n"
     ]
    }
   ],
   "source": [
    "prompt = \"Enter a number between 0 and 100 or 'done' when you are finished: \"\n",
    "nums = []\n",
    "while True:\n",
    "    test = input(prompt)\n",
    "    if test.lower() == \"done\" : \n",
    "        break\n",
    "    try:\n",
    "        num = float(test)\n",
    "    except:\n",
    "        print(\"Invalid input. Please enter a number!\")\n",
    "        continue  \n",
    "    if num < 0 or num > 100:\n",
    "        print(\"Number out of range. Please enter a number between 0 and 100!\")\n",
    "        continue\n",
    "    else:\n",
    "        x = nums.append(num) \n",
    "if len(nums) > 0: \n",
    "    print(\"\")\n",
    "    for x in nums:\n",
    "        if x < 60:\n",
    "            y = \"NC\"\n",
    "        elif x < 70:\n",
    "            y = \"D\" \n",
    "        elif x < 80:\n",
    "            y = \"C\"\n",
    "        elif x < 90:\n",
    "            y = \"B\"\n",
    "        else:\n",
    "            y = \"A\"\n",
    "        print(\"The score\", x, \"equates to\", y)  \n",
    "else:\n",
    "    print(\"\")\n",
    "    print(\"No numbers were entered! What's up with that Dude?\")"
   ]
  }
 ],
 "metadata": {
  "kernelspec": {
   "display_name": "Python 3",
   "language": "python",
   "name": "python3"
  },
  "language_info": {
   "codemirror_mode": {
    "name": "ipython",
    "version": 3
   },
   "file_extension": ".py",
   "mimetype": "text/x-python",
   "name": "python",
   "nbconvert_exporter": "python",
   "pygments_lexer": "ipython3",
   "version": "3.6.5"
  }
 },
 "nbformat": 4,
 "nbformat_minor": 2
}
