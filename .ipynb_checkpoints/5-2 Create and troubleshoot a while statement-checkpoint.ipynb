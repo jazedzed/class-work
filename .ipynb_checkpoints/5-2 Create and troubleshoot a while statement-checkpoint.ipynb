{
 "cells": [
  {
   "cell_type": "code",
   "execution_count": null,
   "metadata": {},
   "outputs": [
    {
     "name": "stdout",
     "output_type": "stream",
     "text": [
      "\n",
      "Please enter a grade between 0 and 100. \n",
      "Enter 'quit' when you are finished. 95\n",
      "['95']\n",
      "Grade: 95 A\n",
      "\n",
      "Please enter a grade between 0 and 100. \n",
      "Enter 'quit' when you are finished. 86\n",
      "['95', '86']\n",
      "Grade: 95 A\n",
      "Grade: 86 B\n"
     ]
    }
   ],
   "source": [
    "prompt = \"\\nPlease enter a grade between 0 and 100. \"\n",
    "prompt += \"\\nEnter 'quit' when you are finished. \"\n",
    "grades = []\n",
    "while True:\n",
    "    grade = input(prompt)\n",
    "    if grade == 'quit':\n",
    "        break\n",
    "    else:\n",
    "        grades.append(grade)\n",
    "        print(grades)\n",
    "        if int(grade) <= 100 and int(grade) >= 90:\n",
    "            print(\"Grade: \" + grade + \" A\")\n",
    "        elif int(grade) <= 89 and int(grade) >= 80:\n",
    "            print(\"Grade: \" + grade + \" B\")\n",
    "        elif int(grade) <= 79 and int(grade) >= 70:\n",
    "            print(\"Grade: \" + grade + \" C\")\n",
    "        elif int(grade) <= 69 and int(grade) >= 60:\n",
    "            print(\"Grade: \" + grade + \" D\")\n",
    "        else:\n",
    "            print(\"Grade: \" + grade + \" NC\")"
   ]
  },
  {
   "cell_type": "code",
   "execution_count": null,
   "metadata": {},
   "outputs": [],
   "source": []
  }
 ],
 "metadata": {
  "kernelspec": {
   "display_name": "Python 3",
   "language": "python",
   "name": "python3"
  },
  "language_info": {
   "codemirror_mode": {
    "name": "ipython",
    "version": 3
   },
   "file_extension": ".py",
   "mimetype": "text/x-python",
   "name": "python",
   "nbconvert_exporter": "python",
   "pygments_lexer": "ipython3",
   "version": "3.6.5"
  }
 },
 "nbformat": 4,
 "nbformat_minor": 2
}
