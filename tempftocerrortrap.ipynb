{
 "cells": [
  {
   "cell_type": "code",
   "execution_count": 1,
   "metadata": {},
   "outputs": [
    {
     "name": "stdout",
     "output_type": "stream",
     "text": [
      "Enter the temperature in degrees Fahrenheit: ten\n",
      "Please enter a number.\n"
     ]
    }
   ],
   "source": [
    "try:\n",
    "    f = float(input(\"Enter the temperature in degrees Fahrenheit: \"))\n",
    "    c = round(float((f - 32) * 5/9),2)\n",
    "    print(\"The temperature \" + str(f) + \" degrees Fahrenheit is \" + str(c) + \" degrees Celsius.\")\n",
    "except:\n",
    "    print(\"Please enter a number.\")\n",
    "    "
   ]
  },
  {
   "cell_type": "code",
   "execution_count": 2,
   "metadata": {},
   "outputs": [
    {
     "name": "stdout",
     "output_type": "stream",
     "text": [
      "Enter the temperature in degrees Fahrenheit: 10\n",
      "The temperature 10.0 degrees Fahrenheit is -12.22 degrees Celsius.\n"
     ]
    }
   ],
   "source": [
    "try:\n",
    "    f = float(input(\"Enter the temperature in degrees Fahrenheit: \"))\n",
    "    c = round(float((f - 32) * 5/9),2)\n",
    "    print(\"The temperature \" + str(f) + \" degrees Fahrenheit is \" + str(c) + \" degrees Celsius.\")\n",
    "except:\n",
    "    print(\"Please enter a number.\")"
   ]
  },
  {
   "cell_type": "code",
   "execution_count": null,
   "metadata": {},
   "outputs": [],
   "source": []
  }
 ],
 "metadata": {
  "kernelspec": {
   "display_name": "Python 3",
   "language": "python",
   "name": "python3"
  },
  "language_info": {
   "codemirror_mode": {
    "name": "ipython",
    "version": 3
   },
   "file_extension": ".py",
   "mimetype": "text/x-python",
   "name": "python",
   "nbconvert_exporter": "python",
   "pygments_lexer": "ipython3",
   "version": "3.6.5"
  }
 },
 "nbformat": 4,
 "nbformat_minor": 2
}
